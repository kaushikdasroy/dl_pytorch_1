{
 "cells": [
  {
   "cell_type": "code",
   "execution_count": 1,
   "metadata": {},
   "outputs": [],
   "source": [
    "from torch import nn"
   ]
  },
  {
   "cell_type": "code",
   "execution_count": 4,
   "metadata": {},
   "outputs": [],
   "source": [
    "class Network(nn.Module):\n",
    "    def __init__(self):\n",
    "        super().__init__()\n",
    "        \n",
    "        self.h = nn.Linear(784,256)\n",
    "        self.out = nn.Linear(256,10)\n",
    "        self.sigmoid = nn.Sigmoid()\n",
    "        self.softmax = nn.Softmax(dim=1)\n",
    "        \n",
    "        \n",
    "    def forward(self,x):\n",
    "        x = self.h(x)\n",
    "        x = self.sigmoid(x)\n",
    "        x = self.out(x)\n",
    "        x = self.softmax(x)\n",
    "        \n",
    "        return x"
   ]
  },
  {
   "cell_type": "code",
   "execution_count": 5,
   "metadata": {},
   "outputs": [],
   "source": [
    "model = Network()"
   ]
  },
  {
   "cell_type": "code",
   "execution_count": 6,
   "metadata": {},
   "outputs": [
    {
     "data": {
      "text/plain": [
       "Network(\n",
       "  (h): Linear(in_features=784, out_features=256, bias=True)\n",
       "  (out): Linear(in_features=256, out_features=10, bias=True)\n",
       "  (sigmoid): Sigmoid()\n",
       "  (softmax): Softmax(dim=1)\n",
       ")"
      ]
     },
     "execution_count": 6,
     "metadata": {},
     "output_type": "execute_result"
    }
   ],
   "source": [
    "model"
   ]
  },
  {
   "cell_type": "code",
   "execution_count": 7,
   "metadata": {},
   "outputs": [],
   "source": [
    "import torch.nn.functional as F"
   ]
  },
  {
   "cell_type": "code",
   "execution_count": 13,
   "metadata": {},
   "outputs": [],
   "source": [
    "class Network_1(nn.Module):\n",
    "    def __init__(self):\n",
    "        super().__init__()\n",
    "        \n",
    "        self.hidden = nn.Linear(784,256)\n",
    "        self.output = nn.Linear(256,10)\n",
    "        \n",
    "        \n",
    "    def forward(self,x):\n",
    "        \n",
    "        x = self.hidden(x)\n",
    "        x = F.sigmoid(x)\n",
    "        x = self.output(x)\n",
    "        x = F.softmax(x, dim=1)\n",
    "        \n",
    "        return x\n",
    "        "
   ]
  },
  {
   "cell_type": "code",
   "execution_count": 14,
   "metadata": {},
   "outputs": [],
   "source": [
    "model = Network_1()"
   ]
  },
  {
   "cell_type": "code",
   "execution_count": 15,
   "metadata": {},
   "outputs": [
    {
     "data": {
      "text/plain": [
       "Network_1(\n",
       "  (hidden): Linear(in_features=784, out_features=256, bias=True)\n",
       "  (output): Linear(in_features=256, out_features=10, bias=True)\n",
       ")"
      ]
     },
     "execution_count": 15,
     "metadata": {},
     "output_type": "execute_result"
    }
   ],
   "source": [
    "model"
   ]
  },
  {
   "cell_type": "code",
   "execution_count": 16,
   "metadata": {},
   "outputs": [],
   "source": [
    "class Network_2(nn.Module):\n",
    "    def __init__(self):\n",
    "        super().__init__()\n",
    "        \n",
    "        self.fc1 = nn.Linear(784,128)\n",
    "        self.fc2 = nn.Linear(128,64)\n",
    "        self.fc3 = nn.Linear(64,10)\n",
    "        \n",
    "        \n",
    "    def forward(self, x):\n",
    "        \n",
    "        x = self.fc1(x)\n",
    "        x = F.relu(x)\n",
    "        x = self.fc2(x)\n",
    "        x = F.relu(x)\n",
    "        x = self.fc3(x)\n",
    "        x = F.softmax(x)\n",
    "        \n",
    "        return x"
   ]
  },
  {
   "cell_type": "code",
   "execution_count": 17,
   "metadata": {},
   "outputs": [],
   "source": [
    "model = Network_2()"
   ]
  },
  {
   "cell_type": "code",
   "execution_count": 18,
   "metadata": {},
   "outputs": [
    {
     "data": {
      "text/plain": [
       "Network_2(\n",
       "  (fc1): Linear(in_features=784, out_features=128, bias=True)\n",
       "  (fc2): Linear(in_features=128, out_features=64, bias=True)\n",
       "  (fc3): Linear(in_features=64, out_features=10, bias=True)\n",
       ")"
      ]
     },
     "execution_count": 18,
     "metadata": {},
     "output_type": "execute_result"
    }
   ],
   "source": [
    "model"
   ]
  },
  {
   "cell_type": "code",
   "execution_count": 21,
   "metadata": {},
   "outputs": [
    {
     "name": "stdout",
     "output_type": "stream",
     "text": [
      "Parameter containing:\n",
      "tensor([[-0.0862,  0.0753, -0.0253,  0.0623, -0.0679, -0.0212, -0.0028,  0.0298,\n",
      "         -0.0633, -0.0165,  0.0686,  0.0348,  0.0609,  0.0826,  0.0074,  0.0783,\n",
      "          0.0384, -0.1036,  0.0361,  0.0687,  0.0799, -0.0270, -0.0594, -0.0134,\n",
      "          0.1150, -0.0108, -0.0285, -0.1075,  0.0242, -0.0475, -0.0964,  0.0712,\n",
      "         -0.0360, -0.0914,  0.0446, -0.0745, -0.1204, -0.1122,  0.0803,  0.0577,\n",
      "         -0.0595, -0.1080,  0.0489, -0.0544, -0.1096,  0.0660, -0.0614,  0.0083,\n",
      "          0.1125,  0.1087,  0.0977, -0.0212, -0.0269, -0.0660, -0.1078, -0.1227,\n",
      "         -0.0944,  0.1202,  0.1111,  0.1118,  0.0873,  0.0757,  0.0025,  0.1117],\n",
      "        [ 0.0926, -0.1170, -0.0143, -0.0481,  0.0818, -0.0476,  0.0528, -0.0578,\n",
      "         -0.1089, -0.0619,  0.0126, -0.0823, -0.1173,  0.0088, -0.1054,  0.1053,\n",
      "          0.1156, -0.0897,  0.0212, -0.0570,  0.0105, -0.1228, -0.0781,  0.0581,\n",
      "          0.0816, -0.0352, -0.1005,  0.0992, -0.0080, -0.0742, -0.0115, -0.1108,\n",
      "         -0.0584,  0.0405, -0.0039,  0.0699,  0.0756,  0.0384, -0.0889,  0.0802,\n",
      "         -0.0966, -0.1188,  0.1078,  0.0037,  0.0528, -0.0718, -0.0477, -0.0868,\n",
      "         -0.0576, -0.0930, -0.0484, -0.0477, -0.1218, -0.0473, -0.0126,  0.1209,\n",
      "          0.1053, -0.0602, -0.0557,  0.0309, -0.0167, -0.0131, -0.0327,  0.0384],\n",
      "        [ 0.0192,  0.1128, -0.0504, -0.0342, -0.1127,  0.0841, -0.0572,  0.0220,\n",
      "         -0.0939, -0.1078,  0.1171, -0.0912,  0.0695, -0.0260, -0.0453,  0.0218,\n",
      "          0.0817,  0.1145,  0.0055, -0.0565, -0.0331, -0.0742,  0.0818, -0.0812,\n",
      "          0.0151,  0.1168, -0.0866, -0.1112,  0.0059, -0.0297, -0.0010,  0.0480,\n",
      "         -0.1143, -0.0984, -0.1212, -0.0424, -0.1099,  0.0877,  0.0786, -0.0262,\n",
      "          0.1017, -0.1197,  0.0707, -0.0626, -0.0801, -0.0770,  0.0850,  0.0879,\n",
      "          0.1119, -0.0956,  0.0359, -0.0460,  0.0141, -0.0310,  0.0121,  0.0914,\n",
      "          0.0792, -0.0443, -0.0862, -0.0971, -0.1105,  0.0287, -0.0506, -0.0264],\n",
      "        [-0.1023,  0.1098, -0.0917, -0.0269, -0.0057, -0.0349, -0.0905, -0.0456,\n",
      "         -0.0320, -0.0912,  0.0939,  0.0125,  0.0826,  0.0368,  0.0062, -0.0706,\n",
      "          0.0206,  0.0419,  0.0972, -0.0770,  0.0684,  0.0084, -0.0436, -0.0325,\n",
      "          0.0102,  0.0938, -0.0052,  0.0443, -0.0633, -0.0097,  0.0291, -0.0937,\n",
      "         -0.0636,  0.1188,  0.0500, -0.0769,  0.0295,  0.1188,  0.0039, -0.0543,\n",
      "          0.0663,  0.0413,  0.0329,  0.0193, -0.0876,  0.0200,  0.0505, -0.1012,\n",
      "          0.1045,  0.0388,  0.0571, -0.1212,  0.0505,  0.1085,  0.0933,  0.0373,\n",
      "          0.0393,  0.0306, -0.0891,  0.0034, -0.0625, -0.0369,  0.1209, -0.0141],\n",
      "        [ 0.0091,  0.0068, -0.0516,  0.0861, -0.0912,  0.0063, -0.0590,  0.0568,\n",
      "          0.0841,  0.0680,  0.0558,  0.0867, -0.1085,  0.1047,  0.1121,  0.0005,\n",
      "          0.0071,  0.0613,  0.0330, -0.1133, -0.0589,  0.1159,  0.0061, -0.0968,\n",
      "          0.0818,  0.0843, -0.1027,  0.1085, -0.0557, -0.0277,  0.0391, -0.1076,\n",
      "         -0.1026,  0.0013,  0.0322, -0.0869, -0.0750,  0.0767,  0.0473, -0.0739,\n",
      "         -0.0234, -0.0420,  0.0172,  0.0109,  0.0084,  0.0062, -0.0183, -0.0496,\n",
      "          0.0307,  0.1160, -0.0090, -0.0541,  0.1221,  0.0525, -0.0201, -0.0023,\n",
      "         -0.1081, -0.0773, -0.0161, -0.0686, -0.1157, -0.0912, -0.0085,  0.0093],\n",
      "        [ 0.1003,  0.0130, -0.0261, -0.0386, -0.0156,  0.0934,  0.0681, -0.0466,\n",
      "         -0.0424, -0.0372,  0.0226,  0.1207, -0.1087,  0.1002, -0.0550,  0.0030,\n",
      "         -0.0764,  0.0906, -0.0431, -0.0041,  0.0155,  0.1116, -0.0089, -0.1178,\n",
      "          0.1250,  0.0938, -0.0718,  0.0637, -0.1162,  0.0639,  0.0157,  0.0272,\n",
      "         -0.1039,  0.1039, -0.0081,  0.0789, -0.0541, -0.0096, -0.0699, -0.0145,\n",
      "          0.1110, -0.0256, -0.0662, -0.1011,  0.0221,  0.0732,  0.0149,  0.1000,\n",
      "         -0.0768, -0.0243, -0.0894,  0.0967, -0.0156, -0.0994,  0.0064, -0.0963,\n",
      "         -0.0465,  0.1019,  0.0926,  0.0173,  0.0598, -0.1077, -0.0300, -0.0906],\n",
      "        [-0.0046, -0.0792, -0.0027, -0.1118,  0.0050,  0.0917, -0.1096,  0.0337,\n",
      "         -0.0651,  0.0819, -0.0809, -0.0104,  0.1148,  0.0546, -0.0322, -0.0180,\n",
      "          0.0846,  0.0502,  0.0321, -0.0812,  0.0946, -0.1139,  0.0791, -0.0845,\n",
      "         -0.0648,  0.0787, -0.1071,  0.0406,  0.0224,  0.1179,  0.0071, -0.0577,\n",
      "          0.0229, -0.0716, -0.1106,  0.0060, -0.0973,  0.0884,  0.0300,  0.1027,\n",
      "          0.0151, -0.0272,  0.0574,  0.1246,  0.0642, -0.0640, -0.1084,  0.0999,\n",
      "          0.0952,  0.0808, -0.0252,  0.0588,  0.0554, -0.0110, -0.0116, -0.1103,\n",
      "          0.0512, -0.0906,  0.0639, -0.0912,  0.1154, -0.0319, -0.0883,  0.0290],\n",
      "        [-0.0361,  0.0262, -0.1128,  0.0735, -0.0925,  0.0011,  0.1230,  0.1120,\n",
      "         -0.0494,  0.0963, -0.0121, -0.0233, -0.0054, -0.1136,  0.0702, -0.0924,\n",
      "         -0.0303,  0.0240,  0.0726,  0.1015, -0.0941, -0.0612, -0.0881, -0.0974,\n",
      "          0.0660,  0.0039, -0.1217,  0.1147,  0.0145,  0.0840,  0.0935,  0.0616,\n",
      "          0.0652, -0.0992, -0.0844,  0.0127, -0.1167, -0.0450, -0.0854,  0.1027,\n",
      "          0.1248, -0.0134,  0.0578,  0.1092, -0.0337, -0.0694, -0.1058, -0.1205,\n",
      "         -0.0214,  0.0482, -0.0500, -0.0117,  0.0594,  0.0076,  0.0484,  0.1030,\n",
      "          0.0258,  0.0689,  0.0744, -0.0671, -0.1077, -0.0584, -0.0359,  0.0964],\n",
      "        [ 0.0783,  0.1137, -0.0233,  0.0218, -0.0446,  0.0725, -0.1180, -0.1159,\n",
      "         -0.0148, -0.1088, -0.0565, -0.0341, -0.0370,  0.0511, -0.1150,  0.0805,\n",
      "         -0.0310, -0.0444, -0.0694, -0.0389, -0.0351,  0.1146, -0.0128,  0.1113,\n",
      "         -0.0969, -0.1218,  0.0988,  0.0577,  0.0129,  0.1040, -0.0578, -0.0759,\n",
      "         -0.0380, -0.1141,  0.0812, -0.0605, -0.0311,  0.1094,  0.0208, -0.1180,\n",
      "          0.0989, -0.0120, -0.1043,  0.0892, -0.0771, -0.0416, -0.0869,  0.0447,\n",
      "         -0.0451,  0.0823,  0.0031, -0.0821,  0.0795, -0.0593,  0.0740,  0.0837,\n",
      "          0.0832,  0.0373, -0.0398,  0.1107,  0.1133, -0.1187, -0.0237, -0.0734],\n",
      "        [-0.0738, -0.0894, -0.1058,  0.0587, -0.0712,  0.1005, -0.0312, -0.1123,\n",
      "          0.0877,  0.0613,  0.0805,  0.0129,  0.0475, -0.1069,  0.0180, -0.0805,\n",
      "         -0.0280,  0.0280,  0.1194,  0.0260, -0.1079, -0.0604,  0.0403, -0.0549,\n",
      "          0.0865,  0.0667, -0.0786, -0.1045, -0.0310,  0.0042, -0.0309, -0.1081,\n",
      "          0.0529, -0.1061,  0.1124, -0.0305,  0.0773, -0.0157, -0.0317,  0.0127,\n",
      "         -0.0484, -0.1207, -0.0799,  0.0492, -0.0889, -0.0033,  0.0907, -0.0579,\n",
      "          0.0801,  0.0355,  0.0193, -0.0868, -0.1026,  0.1000,  0.0622,  0.0066,\n",
      "          0.0808,  0.0212,  0.0539, -0.0922,  0.0348, -0.0959, -0.0864, -0.0106]],\n",
      "       requires_grad=True)\n",
      "Parameter containing:\n",
      "tensor([ 0.0371,  0.0426, -0.0031,  0.0993,  0.0773,  0.0143,  0.0768, -0.0902,\n",
      "        -0.0598, -0.0992], requires_grad=True)\n"
     ]
    }
   ],
   "source": [
    "print(model.fc3.weight)\n",
    "print(model.fc3.bias)"
   ]
  },
  {
   "cell_type": "code",
   "execution_count": 22,
   "metadata": {},
   "outputs": [
    {
     "data": {
      "text/plain": [
       "tensor([[ 0.0049,  0.0045, -0.0044,  ...,  0.0060,  0.0020,  0.0199],\n",
       "        [ 0.0121,  0.0102,  0.0032,  ..., -0.0013,  0.0067,  0.0051],\n",
       "        [ 0.0122, -0.0030, -0.0039,  ...,  0.0104, -0.0015, -0.0007],\n",
       "        ...,\n",
       "        [ 0.0034,  0.0027, -0.0108,  ..., -0.0058,  0.0033, -0.0018],\n",
       "        [ 0.0099,  0.0018, -0.0057,  ..., -0.0043,  0.0128, -0.0052],\n",
       "        [-0.0093, -0.0167,  0.0017,  ...,  0.0002, -0.0091,  0.0141]])"
      ]
     },
     "execution_count": 22,
     "metadata": {},
     "output_type": "execute_result"
    }
   ],
   "source": [
    "model.fc1.bias.data.fill_(0)\n",
    "model.fc1.weight.data.normal_(std=0.01)"
   ]
  },
  {
   "cell_type": "code",
   "execution_count": 1,
   "metadata": {},
   "outputs": [],
   "source": [
    "import helper"
   ]
  },
  {
   "cell_type": "code",
   "execution_count": 7,
   "metadata": {},
   "outputs": [],
   "source": [
    "# Import necessary packages\n",
    "\n",
    "%matplotlib inline\n",
    "%config InlineBackend.figure_format = 'retina'\n",
    "\n",
    "import numpy as np\n",
    "import torch\n",
    "\n",
    "import helper\n",
    "\n",
    "import matplotlib.pyplot as plt"
   ]
  },
  {
   "cell_type": "code",
   "execution_count": 8,
   "metadata": {},
   "outputs": [],
   "source": [
    "### Run this cell\n",
    "\n",
    "from torchvision import datasets, transforms\n",
    "\n",
    "# Define a transform to normalize the data\n",
    "transform = transforms.Compose([transforms.ToTensor(),\n",
    "                              transforms.Normalize((0.5,), (0.5,)),\n",
    "                              ])\n",
    "\n",
    "# Download and load the training data\n",
    "trainset = datasets.MNIST('~/.pytorch/MNIST_data/', download=False, train=True, transform=transform)\n",
    "trainloader = torch.utils.data.DataLoader(trainset, batch_size=64, shuffle=True)"
   ]
  },
  {
   "cell_type": "code",
   "execution_count": 9,
   "metadata": {},
   "outputs": [
    {
     "data": {
      "text/plain": [
       "Dataset MNIST\n",
       "    Number of datapoints: 60000\n",
       "    Root location: /home/ubuntu/.pytorch/MNIST_data/\n",
       "    Split: Train\n",
       "    StandardTransform\n",
       "Transform: Compose(\n",
       "               ToTensor()\n",
       "               Normalize(mean=(0.5,), std=(0.5,))\n",
       "           )"
      ]
     },
     "execution_count": 9,
     "metadata": {},
     "output_type": "execute_result"
    }
   ],
   "source": [
    "trainset"
   ]
  },
  {
   "cell_type": "code",
   "execution_count": 10,
   "metadata": {},
   "outputs": [
    {
     "name": "stdout",
     "output_type": "stream",
     "text": [
      "<class 'torch.Tensor'>\n",
      "torch.Size([64, 1, 28, 28])\n",
      "torch.Size([64])\n"
     ]
    }
   ],
   "source": [
    "dataiter = iter(trainloader)\n",
    "images, labels = dataiter.next()\n",
    "print(type(images))\n",
    "print(images.shape)\n",
    "print(labels.shape)"
   ]
  },
  {
   "cell_type": "code",
   "execution_count": 11,
   "metadata": {},
   "outputs": [
    {
     "data": {
      "image/png": "[encoded data removed]",
      "text/plain": [
       "<Figure size 432x288 with 1 Axes>"
      ]
     },
     "metadata": {
      "image/png": {
       "height": 250,
       "width": 253
      },
      "needs_background": "light"
     },
     "output_type": "display_data"
    }
   ],
   "source": [
    "plt.imshow(images[1].numpy().squeeze(), cmap='Greys_r');"
   ]
  },
  {
   "cell_type": "code",
   "execution_count": 16,
   "metadata": {},
   "outputs": [],
   "source": [
    "class Network(nn.Module):\n",
    "    def __init__(self):\n",
    "        super().__init__()\n",
    "        \n",
    "        self.fc1 = nn.Linear(784,128)\n",
    "        self.fc2 = nn.Linear(128,64)\n",
    "        self.fc3 = nn.Linear(64,10)\n",
    "        \n",
    "        \n",
    "    def forward(self, x):\n",
    "        \n",
    "        x = self.fc1(x)\n",
    "        x = F.relu(x)\n",
    "        x = self.fc2(x)\n",
    "        x = F.relu(x)\n",
    "        x = self.fc3(x)\n",
    "        x = F.softmax(x)\n",
    "        \n",
    "        return x"
   ]
  },
  {
   "cell_type": "code",
   "execution_count": 13,
   "metadata": {},
   "outputs": [],
   "source": [
    "import torch\n",
    "from torch import nn"
   ]
  },
  {
   "cell_type": "code",
   "execution_count": 14,
   "metadata": {},
   "outputs": [],
   "source": [
    "import torch.nn.functional as F"
   ]
  },
  {
   "cell_type": "code",
   "execution_count": 17,
   "metadata": {},
   "outputs": [
    {
     "name": "stdout",
     "output_type": "stream",
     "text": [
      "Parameter containing:\n",
      "tensor([[ 0.0231,  0.0173, -0.0177,  ..., -0.0081,  0.0155, -0.0255],\n",
      "        [-0.0322, -0.0241, -0.0212,  ...,  0.0076, -0.0113,  0.0289],\n",
      "        [ 0.0300, -0.0227,  0.0325,  ..., -0.0168, -0.0349,  0.0234],\n",
      "        ...,\n",
      "        [-0.0198, -0.0041, -0.0135,  ...,  0.0354,  0.0277, -0.0181],\n",
      "        [-0.0294, -0.0231,  0.0166,  ..., -0.0033,  0.0241,  0.0338],\n",
      "        [-0.0355,  0.0234, -0.0074,  ..., -0.0070,  0.0354,  0.0099]],\n",
      "       requires_grad=True)\n",
      "Parameter containing:\n",
      "tensor([-0.0166,  0.0157,  0.0353,  0.0097, -0.0019,  0.0150, -0.0331,  0.0096,\n",
      "        -0.0085, -0.0310,  0.0265, -0.0022,  0.0271,  0.0073,  0.0041, -0.0186,\n",
      "         0.0189, -0.0169,  0.0092, -0.0273, -0.0011, -0.0210,  0.0087, -0.0153,\n",
      "         0.0252,  0.0115, -0.0024, -0.0303,  0.0019, -0.0150,  0.0226,  0.0309,\n",
      "         0.0102,  0.0194,  0.0063, -0.0126, -0.0348, -0.0030, -0.0340, -0.0102,\n",
      "         0.0287,  0.0290,  0.0017, -0.0159,  0.0037, -0.0313, -0.0346,  0.0041,\n",
      "        -0.0335,  0.0082, -0.0066, -0.0124,  0.0238,  0.0199, -0.0191,  0.0263,\n",
      "         0.0095, -0.0167,  0.0115, -0.0083,  0.0034,  0.0045, -0.0087, -0.0104,\n",
      "         0.0111,  0.0128,  0.0239, -0.0293, -0.0296, -0.0085, -0.0183,  0.0223,\n",
      "        -0.0247, -0.0147, -0.0169, -0.0134, -0.0311, -0.0265,  0.0342, -0.0353,\n",
      "         0.0255, -0.0067,  0.0299, -0.0184, -0.0240, -0.0338,  0.0062, -0.0346,\n",
      "        -0.0015, -0.0190,  0.0179, -0.0100, -0.0256,  0.0318,  0.0255,  0.0113,\n",
      "        -0.0041, -0.0119,  0.0291, -0.0078, -0.0193,  0.0328, -0.0056, -0.0140,\n",
      "         0.0059,  0.0275,  0.0137, -0.0121, -0.0095, -0.0238, -0.0282,  0.0109,\n",
      "         0.0188, -0.0205, -0.0264,  0.0194,  0.0116,  0.0046, -0.0150,  0.0062,\n",
      "         0.0149, -0.0083,  0.0016, -0.0126, -0.0242,  0.0310, -0.0151,  0.0342],\n",
      "       requires_grad=True)\n"
     ]
    }
   ],
   "source": [
    "model = Network()\n",
    "\n",
    "print(model.fc1.weight)\n",
    "print(model.fc1.bias)"
   ]
  },
  {
   "cell_type": "code",
   "execution_count": 18,
   "metadata": {},
   "outputs": [
    {
     "data": {
      "text/plain": [
       "tensor([0., 0., 0., 0., 0., 0., 0., 0., 0., 0., 0., 0., 0., 0., 0., 0., 0., 0., 0., 0., 0., 0., 0., 0.,\n",
       "        0., 0., 0., 0., 0., 0., 0., 0., 0., 0., 0., 0., 0., 0., 0., 0., 0., 0., 0., 0., 0., 0., 0., 0.,\n",
       "        0., 0., 0., 0., 0., 0., 0., 0., 0., 0., 0., 0., 0., 0., 0., 0., 0., 0., 0., 0., 0., 0., 0., 0.,\n",
       "        0., 0., 0., 0., 0., 0., 0., 0., 0., 0., 0., 0., 0., 0., 0., 0., 0., 0., 0., 0., 0., 0., 0., 0.,\n",
       "        0., 0., 0., 0., 0., 0., 0., 0., 0., 0., 0., 0., 0., 0., 0., 0., 0., 0., 0., 0., 0., 0., 0., 0.,\n",
       "        0., 0., 0., 0., 0., 0., 0., 0.])"
      ]
     },
     "execution_count": 18,
     "metadata": {},
     "output_type": "execute_result"
    }
   ],
   "source": [
    "# Set biases to all zeros\n",
    "model.fc1.bias.data.fill_(0)"
   ]
  },
  {
   "cell_type": "code",
   "execution_count": 19,
   "metadata": {},
   "outputs": [
    {
     "data": {
      "text/plain": [
       "tensor([[-1.4376e-03, -1.9500e-03,  2.3606e-03,  ..., -1.3013e-02,\n",
       "         -7.9300e-03,  1.1125e-03],\n",
       "        [ 1.6956e-02, -3.3686e-06, -3.0922e-03,  ..., -1.0658e-02,\n",
       "          1.0207e-02, -8.9177e-03],\n",
       "        [ 5.0130e-03, -1.1259e-03, -5.4310e-03,  ...,  4.3285e-04,\n",
       "         -1.1316e-02,  4.8852e-03],\n",
       "        ...,\n",
       "        [ 4.7104e-03,  4.1035e-03, -4.1562e-03,  ..., -4.2820e-04,\n",
       "         -8.8476e-03,  5.9873e-03],\n",
       "        [-5.3389e-03,  1.3694e-03, -1.2138e-03,  ..., -6.5695e-04,\n",
       "          2.3617e-02, -5.2989e-03],\n",
       "        [ 1.6144e-02, -1.0574e-02,  5.0491e-03,  ...,  2.2782e-03,\n",
       "         -8.3439e-03,  1.5429e-02]])"
      ]
     },
     "execution_count": 19,
     "metadata": {},
     "output_type": "execute_result"
    }
   ],
   "source": [
    "# sample from random normal with standard dev = 0.01\n",
    "model.fc1.weight.data.normal_(std=0.01)"
   ]
  },
  {
   "cell_type": "code",
   "execution_count": 20,
   "metadata": {},
   "outputs": [
    {
     "name": "stderr",
     "output_type": "stream",
     "text": [
      "/home/ubuntu/anaconda3/lib/python3.7/site-packages/ipykernel_launcher.py:17: UserWarning: Implicit dimension choice for softmax has been deprecated. Change the call to include dim=X as an argument.\n"
     ]
    },
    {
     "data": {
      "image/png": "[encoded data removed]",
      "text/plain": [
       "<Figure size 432x648 with 2 Axes>"
      ]
     },
     "metadata": {
      "image/png": {
       "height": 226,
       "width": 423
      },
      "needs_background": "light"
     },
     "output_type": "display_data"
    }
   ],
   "source": [
    "\n",
    "# Grab some data \n",
    "dataiter = iter(trainloader)\n",
    "images, labels = dataiter.next()\n",
    "\n",
    "# Resize images into a 1D vector, new shape is (batch size, color channels, image pixels) \n",
    "images.resize_(64, 1, 784)\n",
    "# or images.resize_(images.shape[0], 1, 784) to automatically get batch size\n",
    "\n",
    "# Forward pass through the network\n",
    "img_idx = 0\n",
    "ps = model.forward(images[img_idx,:])\n",
    "\n",
    "img = images[img_idx]\n",
    "helper.view_classify(img.view(1, 28, 28), ps)"
   ]
  },
  {
   "cell_type": "code",
   "execution_count": 21,
   "metadata": {},
   "outputs": [
    {
     "name": "stdout",
     "output_type": "stream",
     "text": [
      "Sequential(\n",
      "  (0): Linear(in_features=784, out_features=128, bias=True)\n",
      "  (1): ReLU()\n",
      "  (2): Linear(in_features=128, out_features=64, bias=True)\n",
      "  (3): ReLU()\n",
      "  (4): Linear(in_features=64, out_features=10, bias=True)\n",
      "  (5): Softmax(dim=1)\n",
      ")\n"
     ]
    },
    {
     "data": {
      "image/png": "[encoded data removed]",
      "text/plain": [
       "<Figure size 432x648 with 2 Axes>"
      ]
     },
     "metadata": {
      "image/png": {
       "height": 226,
       "width": 423
      },
      "needs_background": "light"
     },
     "output_type": "display_data"
    }
   ],
   "source": [
    "input_size = 784\n",
    "hidden_sizes = [128, 64]\n",
    "output_size = 10\n",
    "\n",
    "# Build a feed-forward network\n",
    "model = nn.Sequential(nn.Linear(input_size, hidden_sizes[0]),\n",
    "                      nn.ReLU(),\n",
    "                      nn.Linear(hidden_sizes[0], hidden_sizes[1]),\n",
    "                      nn.ReLU(),\n",
    "                      nn.Linear(hidden_sizes[1], output_size),\n",
    "                      nn.Softmax(dim=1))\n",
    "print(model)\n",
    "\n",
    "# Forward pass through the network and display output\n",
    "images, labels = next(iter(trainloader))\n",
    "images.resize_(images.shape[0], 1, 784)\n",
    "ps = model.forward(images[0,:])\n",
    "helper.view_classify(images[0].view(1, 28, 28), ps)"
   ]
  },
  {
   "cell_type": "code",
   "execution_count": 23,
   "metadata": {},
   "outputs": [
    {
     "name": "stdout",
     "output_type": "stream",
     "text": [
      "Linear(in_features=784, out_features=128, bias=True)\n"
     ]
    },
    {
     "data": {
      "text/plain": [
       "Parameter containing:\n",
       "tensor([[-0.0090,  0.0135, -0.0173,  ...,  0.0220, -0.0354,  0.0076],\n",
       "        [ 0.0245, -0.0256,  0.0139,  ...,  0.0144, -0.0266,  0.0334],\n",
       "        [ 0.0038, -0.0002,  0.0194,  ..., -0.0220,  0.0008,  0.0089],\n",
       "        ...,\n",
       "        [-0.0057,  0.0049,  0.0123,  ...,  0.0015,  0.0277, -0.0082],\n",
       "        [ 0.0208,  0.0344,  0.0027,  ...,  0.0165, -0.0037, -0.0174],\n",
       "        [-0.0085, -0.0211, -0.0182,  ..., -0.0194, -0.0331, -0.0103]],\n",
       "       requires_grad=True)"
      ]
     },
     "execution_count": 23,
     "metadata": {},
     "output_type": "execute_result"
    }
   ],
   "source": [
    "print(model[0])\n",
    "model[0].weight"
   ]
  },
  {
   "cell_type": "code",
   "execution_count": 24,
   "metadata": {},
   "outputs": [
    {
     "data": {
      "text/plain": [
       "Sequential(\n",
       "  (fc1): Linear(in_features=784, out_features=128, bias=True)\n",
       "  (relu1): ReLU()\n",
       "  (fc2): Linear(in_features=128, out_features=64, bias=True)\n",
       "  (relu2): ReLU()\n",
       "  (output): Linear(in_features=64, out_features=10, bias=True)\n",
       "  (softmax): Softmax(dim=1)\n",
       ")"
      ]
     },
     "execution_count": 24,
     "metadata": {},
     "output_type": "execute_result"
    }
   ],
   "source": [
    "from collections import OrderedDict\n",
    "model = nn.Sequential(OrderedDict([\n",
    "                      ('fc1', nn.Linear(input_size, hidden_sizes[0])),\n",
    "                      ('relu1', nn.ReLU()),\n",
    "                      ('fc2', nn.Linear(hidden_sizes[0], hidden_sizes[1])),\n",
    "                      ('relu2', nn.ReLU()),\n",
    "                      ('output', nn.Linear(hidden_sizes[1], output_size)),\n",
    "                      ('softmax', nn.Softmax(dim=1))]))\n",
    "model"
   ]
  },
  {
   "cell_type": "code",
   "execution_count": 25,
   "metadata": {},
   "outputs": [
    {
     "name": "stdout",
     "output_type": "stream",
     "text": [
      "Linear(in_features=784, out_features=128, bias=True)\n",
      "Linear(in_features=784, out_features=128, bias=True)\n"
     ]
    }
   ],
   "source": [
    "print(model[0])\n",
    "print(model.fc1)"
   ]
  },
  {
   "cell_type": "code",
   "execution_count": null,
   "metadata": {},
   "outputs": [],
   "source": []
  }
 ],
 "metadata": {
  "kernelspec": {
   "display_name": "Python 3",
   "language": "python",
   "name": "python3"
  },
  "language_info": {
   "codemirror_mode": {
    "name": "ipython",
    "version": 3
   },
   "file_extension": ".py",
   "mimetype": "text/x-python",
   "name": "python",
   "nbconvert_exporter": "python",
   "pygments_lexer": "ipython3",
   "version": "3.7.3"
  }
 },
 "nbformat": 4,
 "nbformat_minor": 2
}
